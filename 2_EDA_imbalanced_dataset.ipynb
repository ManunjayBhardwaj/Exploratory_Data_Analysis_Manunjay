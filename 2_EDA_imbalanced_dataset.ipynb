{
 "cells": [
  {
   "metadata": {},
   "cell_type": "markdown",
   "source": [
    "# Imbalanced Dataset\n",
    "\n",
    "An **imbalanced dataset** refers to a situation in machine learning where the classes (or categories) in the target variable are not distributed equally. One class has significantly more samples than the other(s), which can lead to biased models that favor the majority class.\n",
    "\n",
    "### Key Characteristics of Imbalanced Data:\n",
    "- **Majority Class**: One class has far more data points than others.\n",
    "- **Minority Class**: One class has much fewer data points.\n",
    "- **Model Bias**: Models trained on imbalanced datasets may have poor performance on the minority class since they tend to predict the majority class more often.\n",
    "\n",
    "### Example 1: Fraud Detection\n",
    "- **Problem**: Predicting whether a transaction is fraudulent or not.\n",
    "- **Imbalance**: In a dataset, 99% of the transactions are **legitimate** (non-fraudulent), while only 1% are **fraudulent**.\n",
    "- **Effect**: A model trained on this data might predict \"non-fraudulent\" for almost every transaction because it's the dominant class, leading to high accuracy but poor performance on fraud detection (since it's missing the minority fraud cases).\n",
    "\n",
    "### Example 2: Disease Prediction\n",
    "- **Problem**: Predicting whether a person has a particular disease (e.g., cancer).\n",
    "- **Imbalance**: If 95% of people in the dataset are **healthy** and only 5% have the disease, the dataset is imbalanced.\n",
    "- **Effect**: The model may predict \"healthy\" for most cases because it's the overwhelming majority, leading to a high accuracy but failing to identify people who have the disease.\n",
    "\n",
    "### Example 3: Customer Churn Prediction\n",
    "- **Problem**: Predicting if a customer will leave a service (churn) or stay.\n",
    "- **Imbalance**: If 80% of customers **stay** and only 20% **churn**, the dataset is imbalanced.\n",
    "- **Effect**: A model might predict \"stay\" for almost every customer, since that is the majority class, leading to good accuracy but poor identification of customers at risk of churning.\n",
    "\n",
    "### Why is it a Problem?\n",
    "1. **Skewed Metrics**: Common evaluation metrics like **accuracy** can be misleading. A model predicting only the majority class can achieve high accuracy but fail to recognize the minority class.\n",
    "\n",
    "2. **Poor Performance on Minority Class**: The model may learn to ignore the minority class, which is often the more important class (e.g., fraud detection, disease prediction).\n",
    "\n",
    "### Techniques to Handle Imbalanced Datasets:\n",
    "- **Resampling**:\n",
    "  - **Oversampling** the minority class (e.g., using SMOTE).\n",
    "  - **Undersampling** the majority class.\n",
    "- **Class Weights**: Assign higher weights to the minority class during training.\n",
    "- **Anomaly Detection**: Treat the minority class as an anomaly and use anomaly detection methods.\n",
    "- **Evaluation Metrics**: Use metrics like **Precision**, **Recall**, **F1-score**, **ROC-AUC**, which give more insight into how well the model is handling both classes.\n",
    "\n",
    "Imbalance in datasets is common in many real-world applications, and handling it correctly is crucial for building fair and effective models.\n"
   ],
   "id": "75f38c8d2125225b"
  },
  {
   "metadata": {
    "ExecuteTime": {
     "end_time": "2025-02-01T15:51:53.718539Z",
     "start_time": "2025-02-01T15:51:53.713443Z"
    }
   },
   "cell_type": "code",
   "source": [
    "# Creating an imbalanced dataset\n",
    "import numpy as np\n",
    "import pandas as pd\n",
    "\n",
    "# set the random seed for reproducibility\n",
    "np.random.seed(42)\n",
    "\n",
    "# create a dataframe with two classes\n",
    "n_samples=1000\n",
    "class_0_ration=0.9\n",
    "n_class_0=int(n_samples*class_0_ration)\n",
    "n_class_1=(n_samples-n_class_0)\n",
    "\n",
    "# to check the number of values\n",
    "n_class_0,n_class_1\n",
    "\n"
   ],
   "id": "b690781d0ba50300",
   "outputs": [
    {
     "data": {
      "text/plain": [
       "(900, 100)"
      ]
     },
     "execution_count": 37,
     "metadata": {},
     "output_type": "execute_result"
    }
   ],
   "execution_count": 37
  },
  {
   "metadata": {
    "ExecuteTime": {
     "end_time": "2025-02-01T15:51:56.606140Z",
     "start_time": "2025-02-01T15:51:56.601720Z"
    }
   },
   "cell_type": "code",
   "source": [
    "# Creating a imbalanced dataset\n",
    "class_0=pd.DataFrame({\n",
    "    'feature1':np.random.normal(0,1,n_class_0),\n",
    "    'feature2':np.random.normal(0,1,n_class_0),\n",
    "     'target':[0]* n_class_0\n",
    "})\n",
    "\n",
    "class_1=pd.DataFrame({\n",
    "    'feature1':np.random.normal(0,1,n_class_1),\n",
    "    'feature2':np.random.normal(0,1,n_class_1),\n",
    "     'target':[1]* n_class_1\n",
    "})"
   ],
   "id": "ef5608f1f0fd6faa",
   "outputs": [],
   "execution_count": 38
  },
  {
   "metadata": {
    "ExecuteTime": {
     "end_time": "2025-02-01T15:52:00.044375Z",
     "start_time": "2025-02-01T15:52:00.040953Z"
    }
   },
   "cell_type": "code",
   "source": "df=pd.concat([class_0,class_1]).reset_index(drop=True)",
   "id": "df336f23ec16b80d",
   "outputs": [],
   "execution_count": 39
  },
  {
   "metadata": {},
   "cell_type": "markdown",
   "source": [
    "## Up-sampling\n",
    "\n"
   ],
   "id": "323046048ec65bc7"
  },
  {
   "metadata": {
    "ExecuteTime": {
     "end_time": "2025-02-01T15:52:01.654632Z",
     "start_time": "2025-02-01T15:52:01.649841Z"
    }
   },
   "cell_type": "code",
   "source": [
    "df_minority=df[df['target']==1]\n",
    "df_majority=df[df['target']==0]"
   ],
   "id": "f7a52bf3e86aa3c",
   "outputs": [],
   "execution_count": 40
  },
  {
   "metadata": {
    "ExecuteTime": {
     "end_time": "2025-02-01T15:54:33.814807Z",
     "start_time": "2025-02-01T15:54:33.807872Z"
    }
   },
   "cell_type": "code",
   "source": [
    "from sklearn.utils import resample\n",
    "df_minority_up_sampled=resample(df_minority,replace=True,n_samples=len(df_majority),random_state=42\n",
    " )\n",
    "# this resample function creates extra sample points for the minority class so that it has equal weightage\n",
    "df_minority_up_sampled.shape # now you can easily see that we have up-sampled the data\n",
    "df_minority_up_sampled.head()"
   ],
   "id": "8fbce8a7e89dd7e3",
   "outputs": [
    {
     "data": {
      "text/plain": [
       "     feature1  feature2  target\n",
       "951  1.775311  1.261922       1\n",
       "992 -0.436386  1.188913       1\n",
       "914 -0.268531 -1.801058       1\n",
       "971 -0.214921 -2.940389       1\n",
       "960 -0.134309 -0.054894       1"
      ],
      "text/html": [
       "<div>\n",
       "<style scoped>\n",
       "    .dataframe tbody tr th:only-of-type {\n",
       "        vertical-align: middle;\n",
       "    }\n",
       "\n",
       "    .dataframe tbody tr th {\n",
       "        vertical-align: top;\n",
       "    }\n",
       "\n",
       "    .dataframe thead th {\n",
       "        text-align: right;\n",
       "    }\n",
       "</style>\n",
       "<table border=\"1\" class=\"dataframe\">\n",
       "  <thead>\n",
       "    <tr style=\"text-align: right;\">\n",
       "      <th></th>\n",
       "      <th>feature1</th>\n",
       "      <th>feature2</th>\n",
       "      <th>target</th>\n",
       "    </tr>\n",
       "  </thead>\n",
       "  <tbody>\n",
       "    <tr>\n",
       "      <th>951</th>\n",
       "      <td>1.775311</td>\n",
       "      <td>1.261922</td>\n",
       "      <td>1</td>\n",
       "    </tr>\n",
       "    <tr>\n",
       "      <th>992</th>\n",
       "      <td>-0.436386</td>\n",
       "      <td>1.188913</td>\n",
       "      <td>1</td>\n",
       "    </tr>\n",
       "    <tr>\n",
       "      <th>914</th>\n",
       "      <td>-0.268531</td>\n",
       "      <td>-1.801058</td>\n",
       "      <td>1</td>\n",
       "    </tr>\n",
       "    <tr>\n",
       "      <th>971</th>\n",
       "      <td>-0.214921</td>\n",
       "      <td>-2.940389</td>\n",
       "      <td>1</td>\n",
       "    </tr>\n",
       "    <tr>\n",
       "      <th>960</th>\n",
       "      <td>-0.134309</td>\n",
       "      <td>-0.054894</td>\n",
       "      <td>1</td>\n",
       "    </tr>\n",
       "  </tbody>\n",
       "</table>\n",
       "</div>"
      ]
     },
     "execution_count": 46,
     "metadata": {},
     "output_type": "execute_result"
    }
   ],
   "execution_count": 46
  },
  {
   "metadata": {
    "ExecuteTime": {
     "end_time": "2025-02-01T15:58:19.959011Z",
     "start_time": "2025-02-01T15:58:19.953110Z"
    }
   },
   "cell_type": "code",
   "source": [
    "# now we create the final df_up_sampled\n",
    "df_up_sampled=pd.concat([df_minority_up_sampled,df_majority]).reset_index(drop=True)\n",
    "df_up_sampled['target'].value_counts()\n",
    "# now we can easily see that we have 900 data points for each"
   ],
   "id": "32f1e68692a2a130",
   "outputs": [
    {
     "data": {
      "text/plain": [
       "target\n",
       "1    900\n",
       "0    900\n",
       "Name: count, dtype: int64"
      ]
     },
     "execution_count": 51,
     "metadata": {},
     "output_type": "execute_result"
    }
   ],
   "execution_count": 51
  },
  {
   "metadata": {},
   "cell_type": "markdown",
   "source": "## Down-sampling\n",
   "id": "a828c875db77f762"
  },
  {
   "metadata": {
    "ExecuteTime": {
     "end_time": "2025-02-01T16:02:36.241221Z",
     "start_time": "2025-02-01T16:02:36.231770Z"
    }
   },
   "cell_type": "code",
   "source": [
    "# Creating an imbalanced dataset\n",
    "import numpy as np\n",
    "import pandas as pd\n",
    "\n",
    "# set the random seed for reproducibility\n",
    "np.random.seed(42)\n",
    "\n",
    "# create a dataframe with two classes\n",
    "n_samples = 1000\n",
    "class_0_ration = 0.9\n",
    "n_class_0 = int(n_samples * class_0_ration)\n",
    "n_class_1 = (n_samples - n_class_0)\n",
    "\n",
    "# to check the number of values\n",
    "n_class_0, n_class_1\n",
    "\n",
    "# Creating a imbalanced dataset\n",
    "class_0 = pd.DataFrame({\n",
    "    'feature1': np.random.normal(0, 1, n_class_0),\n",
    "    'feature2': np.random.normal(0, 1, n_class_0),\n",
    "    'target': [0] * n_class_0\n",
    "})\n",
    "\n",
    "class_1 = pd.DataFrame({\n",
    "    'feature1': np.random.normal(0, 1, n_class_1),\n",
    "    'feature2': np.random.normal(0, 1, n_class_1),\n",
    "    'target': [1] * n_class_1\n",
    "})\n",
    "df = pd.concat([class_0, class_1]).reset_index(drop=True)\n",
    "## Up-sampling\n",
    "\n",
    "\n",
    "df_minority = df[df['target'] == 1]\n",
    "df_majority = df[df['target'] == 0]\n",
    "from sklearn.utils import resample\n",
    "\n",
    "df_majority_down_sampled = resample(df_majority, replace=True, n_samples=len(df_minority), random_state=42\n",
    "                                  )\n",
    "# this resample function creates extra sample points for the minority class so that it has equal weightage\n",
    "df_majority_down_sampled.shape  # now you can easily see that we have up-sampled the data\n",
    "df_majority_down_sampled.head()\n",
    "# now we create the final df_up_sampled\n",
    "df_down_sampled = pd.concat([df_majority_up_sampled, df_minority]).reset_index(drop=True)\n",
    "df_down_sampled['target'].value_counts()\n",
    "# now we can easily see that we have 900 data points for each"
   ],
   "id": "323ec830510fd401",
   "outputs": [
    {
     "data": {
      "text/plain": [
       "target\n",
       "0    100\n",
       "1    100\n",
       "Name: count, dtype: int64"
      ]
     },
     "execution_count": 55,
     "metadata": {},
     "output_type": "execute_result"
    }
   ],
   "execution_count": 55
  },
  {
   "metadata": {},
   "cell_type": "markdown",
   "source": "## Downsampling is bad as we loose a lot of data points\n",
   "id": "b5f42c8acf97eb4c"
  }
 ],
 "metadata": {
  "kernelspec": {
   "display_name": "Python 3",
   "language": "python",
   "name": "python3"
  },
  "language_info": {
   "codemirror_mode": {
    "name": "ipython",
    "version": 2
   },
   "file_extension": ".py",
   "mimetype": "text/x-python",
   "name": "python",
   "nbconvert_exporter": "python",
   "pygments_lexer": "ipython2",
   "version": "2.7.6"
  }
 },
 "nbformat": 4,
 "nbformat_minor": 5
}
